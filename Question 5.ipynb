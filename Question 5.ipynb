{
 "cells": [
  {
   "cell_type": "markdown",
   "metadata": {},
   "source": [
    "# Question 5\n",
    "- Use Gutenberg and Web_text data. Find out what are the top 5 words that   Shakespeare used but we do not use in currently.\n",
    "- Take top 50 words from Shakespeare (all 3 books) and top 50 from Web_text (all the records).\n",
    "- Remove punctuation and stop words.\n",
    "- Remove the words we still use today, and get the unused list. \n",
    "- Show the top 5 elements. "
   ]
  },
  {
   "cell_type": "code",
   "execution_count": 1,
   "metadata": {
    "collapsed": true
   },
   "outputs": [],
   "source": [
    "import nltk\n",
    "import operator"
   ]
  },
  {
   "cell_type": "code",
   "execution_count": 2,
   "metadata": {
    "collapsed": false
   },
   "outputs": [],
   "source": [
    "#import the file names from the gutenberg corpus\n",
    "titles = nltk.corpus.gutenberg.fileids()"
   ]
  },
  {
   "cell_type": "code",
   "execution_count": 3,
   "metadata": {
    "collapsed": true
   },
   "outputs": [],
   "source": [
    "#make a new list from those file names for all shakespeare files\n",
    "shakespeare = [t for t in titles if 'shakespeare' in t]"
   ]
  },
  {
   "cell_type": "code",
   "execution_count": 4,
   "metadata": {
    "collapsed": true
   },
   "outputs": [],
   "source": [
    "#compile a list of all words from the shakespeare files\n",
    "shakespearewords = []\n",
    "for f in shakespeare:\n",
    "    shakespearewords = shakespearewords + list(nltk.corpus.gutenberg.words(f))"
   ]
  },
  {
   "cell_type": "code",
   "execution_count": 5,
   "metadata": {
    "collapsed": false
   },
   "outputs": [],
   "source": [
    "#compile a list of all words from all webwords files\n",
    "webwords = []\n",
    "for f in nltk.corpus.webtext.fileids():\n",
    "    webwords = webwords + list(nltk.corpus.webtext.words(f))"
   ]
  },
  {
   "cell_type": "code",
   "execution_count": 6,
   "metadata": {
    "collapsed": false
   },
   "outputs": [],
   "source": [
    "#remove stopwords and punctuation\n",
    "stopwords = list(nltk.corpus.stopwords.words())\n",
    "punctuation = ['.',',',':',';','\\'','?','!','-','[',']','(',')','{','}','/','#','...',\"'\",'\"','*','***']\n",
    "\n",
    "for w in shakespearewords: \n",
    "        shakespearewords[shakespearewords.index(w)]= w.lower()\n",
    "        if w in stopwords or w in punctuation:\n",
    "            shakespearewords.remove(w)\n",
    "            \n",
    "for w in webwords: \n",
    "        webwords[webwords.index(w)]= w.lower()\n",
    "        if w in stopwords or w in punctuation:\n",
    "            webwords.remove(w)"
   ]
  },
  {
   "cell_type": "code",
   "execution_count": 7,
   "metadata": {
    "collapsed": true
   },
   "outputs": [],
   "source": [
    "#remove duplicate words from both lists\n",
    "shakespeareuniquewords = list(set(shakespearewords))\n",
    "webuniquewords = list(set(webwords))"
   ]
  },
  {
   "cell_type": "code",
   "execution_count": 8,
   "metadata": {
    "collapsed": true
   },
   "outputs": [],
   "source": [
    "#create a dictionary for each list of the word and that word's frequency\n",
    "shakespearefreq = {x:shakespearewords.count(x) for x in shakespeareuniquewords}\n",
    "webfreq = {x:webwords.count(x) for x in webuniquewords}"
   ]
  },
  {
   "cell_type": "code",
   "execution_count": 9,
   "metadata": {
    "collapsed": true
   },
   "outputs": [],
   "source": [
    "#sort the dictionaries\n",
    "sorted_shakespearefreq = sorted(shakespearefreq.items(), key=operator.itemgetter(1), reverse = True)\n",
    "sorted_webfreq = sorted(webfreq.items(), key=operator.itemgetter(1), reverse = True)"
   ]
  },
  {
   "cell_type": "code",
   "execution_count": 10,
   "metadata": {
    "collapsed": true
   },
   "outputs": [],
   "source": [
    "#Pull the top 50 words from each list\n",
    "topshakespeare = sorted_shakespearefreq[0:49]\n",
    "topweb = sorted_webfreq[0:49]"
   ]
  },
  {
   "cell_type": "code",
   "execution_count": 11,
   "metadata": {
    "collapsed": false
   },
   "outputs": [],
   "source": [
    "#make a list of all words that are in shakespeare but not in webwords\n",
    "oldwords = [w for w in shakespeareuniquewords if w not in webuniquewords]"
   ]
  },
  {
   "cell_type": "code",
   "execution_count": 12,
   "metadata": {
    "collapsed": false,
    "scrolled": false
   },
   "outputs": [],
   "source": [
    "#calculate the frequency of those words in shakespeare\n",
    "oldwordfreq = {x:shakespearewords.count(x) for x in oldwords}"
   ]
  },
  {
   "cell_type": "code",
   "execution_count": 13,
   "metadata": {
    "collapsed": true
   },
   "outputs": [],
   "source": [
    "#sort the words by frequency\n",
    "sorted_oldwordfreq = sorted(oldwordfreq.items(), key=operator.itemgetter(1), reverse = True)"
   ]
  },
  {
   "cell_type": "code",
   "execution_count": 14,
   "metadata": {
    "collapsed": false
   },
   "outputs": [
    {
     "name": "stdout",
     "output_type": "stream",
     "text": [
      "The top 5 words used in Shakespeare but not today are:\n",
      "haue which was used by Shakespeare 417 times\n",
      "selfe which was used by Shakespeare 141 times\n",
      "vpon which was used by Shakespeare 139 times\n",
      "hath which was used by Shakespeare 131 times\n",
      "th which was used by Shakespeare 116 times\n"
     ]
    }
   ],
   "source": [
    "#pull the top 5 words by frequency and print them\n",
    "topold = sorted_oldwordfreq[0:5]\n",
    "\n",
    "print('The top 5 words used in Shakespeare but not today are:')\n",
    "for i in range(5):\n",
    "    print(topold[i][0],'which was used by Shakespeare',topold[i][1],'times')"
   ]
  }
 ],
 "metadata": {
  "anaconda-cloud": {},
  "kernelspec": {
   "display_name": "Python [conda root]",
   "language": "python",
   "name": "conda-root-py"
  },
  "language_info": {
   "codemirror_mode": {
    "name": "ipython",
    "version": 3
   },
   "file_extension": ".py",
   "mimetype": "text/x-python",
   "name": "python",
   "nbconvert_exporter": "python",
   "pygments_lexer": "ipython3",
   "version": "3.5.2"
  }
 },
 "nbformat": 4,
 "nbformat_minor": 1
}
