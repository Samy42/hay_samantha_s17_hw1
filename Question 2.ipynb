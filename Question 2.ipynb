{
 "cells": [
  {
   "cell_type": "markdown",
   "metadata": {},
   "source": [
    "# Question 2\n",
    "- Under package Gutenberg get content from file 'melville-moby_dick.txt.' (HINT: Words? Raw?)\n",
    "- Find out frequency of 26 characters. (Turn uppercase into lowercase and count as one character)\n",
    "- List all 26 characters in order base on their frequency. (From most frequent to least frequent)\n",
    "Try NOT to use FreqDist module"
   ]
  },
  {
   "cell_type": "code",
   "execution_count": 1,
   "metadata": {
    "collapsed": false
   },
   "outputs": [],
   "source": [
    "import nltk"
   ]
  },
  {
   "cell_type": "code",
   "execution_count": 2,
   "metadata": {
    "collapsed": false
   },
   "outputs": [],
   "source": [
    "rawlist = nltk.corpus.gutenberg.raw('melville-moby_dick.txt') #read in moby dick as a single string\n",
    "rawlist = rawlist.lower()     #convert to lowercase\n",
    "rawlist = rawlist.replace(\"\\n\",\" \")     #remove \\n regex character\n",
    "rawlist = rawlist.replace(\"\\r\",\" \")     #remove \\r regex character\n",
    "rawlist = rawlist.rstrip()              # strip out whitespace"
   ]
  },
  {
   "cell_type": "code",
   "execution_count": 3,
   "metadata": {
    "collapsed": false
   },
   "outputs": [],
   "source": [
    "alphabet = ['a','b','c','d','e','f','g','h','i','j','k','l','m',\n",
    "            'n','o','p','q','r','s','t','u','v','w','x','y','z']"
   ]
  },
  {
   "cell_type": "code",
   "execution_count": 4,
   "metadata": {
    "collapsed": false
   },
   "outputs": [],
   "source": [
    "#this will make a dictionary where the key is the letter and the value \n",
    "#is the frequency of that letter\n",
    "\n",
    "freq = {a:rawlist.count(a) for a in alphabet}"
   ]
  },
  {
   "cell_type": "code",
   "execution_count": 5,
   "metadata": {
    "collapsed": false
   },
   "outputs": [
    {
     "data": {
      "text/plain": [
       "{'a': 77916,\n",
       " 'b': 16877,\n",
       " 'c': 22507,\n",
       " 'd': 38219,\n",
       " 'e': 117092,\n",
       " 'f': 20833,\n",
       " 'g': 20820,\n",
       " 'h': 62896,\n",
       " 'i': 65434,\n",
       " 'j': 1082,\n",
       " 'k': 8059,\n",
       " 'l': 42793,\n",
       " 'm': 23277,\n",
       " 'n': 65617,\n",
       " 'o': 69326,\n",
       " 'p': 17255,\n",
       " 'q': 1556,\n",
       " 'r': 52134,\n",
       " 's': 64231,\n",
       " 't': 87996,\n",
       " 'u': 26697,\n",
       " 'v': 8598,\n",
       " 'w': 22222,\n",
       " 'x': 1030,\n",
       " 'y': 16872,\n",
       " 'z': 632}"
      ]
     },
     "execution_count": 5,
     "metadata": {},
     "output_type": "execute_result"
    }
   ],
   "source": [
    "freq     #This is the fequency of every letter"
   ]
  },
  {
   "cell_type": "code",
   "execution_count": 6,
   "metadata": {
    "collapsed": false
   },
   "outputs": [],
   "source": [
    "# this will sort the dictionary by the values within it\n",
    "import operator\n",
    "sorted_freq = sorted(freq.items(), key=operator.itemgetter(1), reverse = True)"
   ]
  },
  {
   "cell_type": "code",
   "execution_count": 7,
   "metadata": {
    "collapsed": false
   },
   "outputs": [
    {
     "data": {
      "text/plain": [
       "[('e', 117092),\n",
       " ('t', 87996),\n",
       " ('a', 77916),\n",
       " ('o', 69326),\n",
       " ('n', 65617),\n",
       " ('i', 65434),\n",
       " ('s', 64231),\n",
       " ('h', 62896),\n",
       " ('r', 52134),\n",
       " ('l', 42793),\n",
       " ('d', 38219),\n",
       " ('u', 26697),\n",
       " ('m', 23277),\n",
       " ('c', 22507),\n",
       " ('w', 22222),\n",
       " ('f', 20833),\n",
       " ('g', 20820),\n",
       " ('p', 17255),\n",
       " ('b', 16877),\n",
       " ('y', 16872),\n",
       " ('v', 8598),\n",
       " ('k', 8059),\n",
       " ('q', 1556),\n",
       " ('j', 1082),\n",
       " ('x', 1030),\n",
       " ('z', 632)]"
      ]
     },
     "execution_count": 7,
     "metadata": {},
     "output_type": "execute_result"
    }
   ],
   "source": [
    "#This is the ordered list of letters from most common to least common, \n",
    "#and their frequencies\n",
    "sorted_freq"
   ]
  }
 ],
 "metadata": {
  "anaconda-cloud": {},
  "kernelspec": {
   "display_name": "Python [conda root]",
   "language": "python",
   "name": "conda-root-py"
  },
  "language_info": {
   "codemirror_mode": {
    "name": "ipython",
    "version": 3
   },
   "file_extension": ".py",
   "mimetype": "text/x-python",
   "name": "python",
   "nbconvert_exporter": "python",
   "pygments_lexer": "ipython3",
   "version": "3.5.2"
  }
 },
 "nbformat": 4,
 "nbformat_minor": 1
}
