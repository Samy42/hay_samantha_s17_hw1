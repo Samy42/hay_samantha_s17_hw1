{
 "cells": [
  {
   "cell_type": "markdown",
   "metadata": {},
   "source": [
    "# Question 4\n",
    "- Under package nps_chat, see what files are in it.\n",
    "- Find 'user121' and see how many posts he posted in all.\n",
    "- Find out how many unique user in each age range group. (20s, 30s,...)(Hint: files' name)"
   ]
  },
  {
   "cell_type": "code",
   "execution_count": 1,
   "metadata": {
    "collapsed": true
   },
   "outputs": [],
   "source": [
    "import nltk\n",
    "import re"
   ]
  },
  {
   "cell_type": "code",
   "execution_count": 2,
   "metadata": {
    "collapsed": false
   },
   "outputs": [
    {
     "data": {
      "text/plain": [
       "['10-19-20s_706posts.xml',\n",
       " '10-19-30s_705posts.xml',\n",
       " '10-19-40s_686posts.xml',\n",
       " '10-19-adults_706posts.xml',\n",
       " '10-24-40s_706posts.xml',\n",
       " '10-26-teens_706posts.xml',\n",
       " '11-06-adults_706posts.xml',\n",
       " '11-08-20s_705posts.xml',\n",
       " '11-08-40s_706posts.xml',\n",
       " '11-08-adults_705posts.xml',\n",
       " '11-08-teens_706posts.xml',\n",
       " '11-09-20s_706posts.xml',\n",
       " '11-09-40s_706posts.xml',\n",
       " '11-09-adults_706posts.xml',\n",
       " '11-09-teens_706posts.xml']"
      ]
     },
     "execution_count": 2,
     "metadata": {},
     "output_type": "execute_result"
    }
   ],
   "source": [
    "filelist = nltk.corpus.nps_chat.fileids()\n",
    "filelist"
   ]
  },
  {
   "cell_type": "code",
   "execution_count": 8,
   "metadata": {
    "collapsed": false
   },
   "outputs": [],
   "source": [
    "#compile a list of all words from all files\n",
    "allwords = []\n",
    "for f in nltk.corpus.nps_chat.fileids():\n",
    "    allwords = allwords + nltk.corpus.nps_chat.words(f)"
   ]
  },
  {
   "cell_type": "code",
   "execution_count": 4,
   "metadata": {
    "collapsed": false
   },
   "outputs": [
    {
     "name": "stdout",
     "output_type": "stream",
     "text": [
      "User 121 posted  36  times\n"
     ]
    }
   ],
   "source": [
    "print('User 121 posted ',allwords.count('U121'),' times')"
   ]
  },
  {
   "cell_type": "code",
   "execution_count": 5,
   "metadata": {
    "collapsed": false
   },
   "outputs": [],
   "source": [
    "#Make seperate list of filenames for each age group\n",
    "Files_20s = [f for f in filelist if '20s' in f]\n",
    "Files_30s = [f for f in filelist if '30s' in f]\n",
    "Files_40s = [f for f in filelist if '40s' in f]\n",
    "Files_teens = [f for f in filelist if 'teens' in f]\n",
    "Files_adults = [f for f in filelist if 'adults' in f]"
   ]
  },
  {
   "cell_type": "code",
   "execution_count": 6,
   "metadata": {
    "collapsed": false
   },
   "outputs": [],
   "source": [
    "#make a combined word list of each age group\n",
    "Words_20s = [nltk.corpus.nps_chat.words(f) for f in Files_20s]\n",
    "Words_30s = [nltk.corpus.nps_chat.words(f) for f in Files_30s]\n",
    "Words_40s = [nltk.corpus.nps_chat.words(f) for f in Files_40s]\n",
    "Words_teens = [nltk.corpus.nps_chat.words(f) for f in Files_teens]\n",
    "Words_adults = [nltk.corpus.nps_chat.words(f) for f in Files_adults]"
   ]
  },
  {
   "cell_type": "code",
   "execution_count": 7,
   "metadata": {
    "collapsed": false,
    "scrolled": true
   },
   "outputs": [
    {
     "name": "stdout",
     "output_type": "stream",
     "text": [
      "There are  93  users in their 20's\n",
      "There are  37  users in their 30's\n",
      "There are  82  users in their 40's\n",
      "There are  81  users in their teens\n",
      "There are  110  users that are adults\n"
     ]
    }
   ],
   "source": [
    "#extract the users from each word list, remove duplicates, and count how many\n",
    "#many users are in each age group set\n",
    "users_20s = sum([[w for w in w2 if re.search('U(.+)',w)\n",
    "                  and re.search('U(.+)',w).group(0)] for w2 in Words_20s],[])\n",
    "print('There are ',len(set(users_20s)),' users in their 20\\'s')\n",
    "\n",
    "users_30s = sum([[w for w in w2 if re.search('U(.+)',w)\n",
    "                  and re.search('U(.+)',w).group(0)] for w2 in Words_30s],[])\n",
    "print('There are ',len(set(users_30s)),' users in their 30\\'s')\n",
    "\n",
    "users_40s = sum([[w for w in w2 if re.search('U(.+)',w)\n",
    "                  and re.search('U(.+)',w).group(0)] for w2 in Words_40s],[])\n",
    "print('There are ',len(set(users_40s)),' users in their 40\\'s')\n",
    "\n",
    "users_teens = sum([[w for w in w2 if re.search('U(.+)',w)\n",
    "                  and re.search('U(.+)',w).group(0)] for w2 in Words_teens],[])\n",
    "print('There are ',len(set(users_teens)),' users in their teens')\n",
    "\n",
    "users_adults = sum([[w for w in w2 if re.search('U(.+)',w)\n",
    "                  and re.search('U(.+)',w).group(0)] for w2 in Words_adults],[])\n",
    "print('There are ',len(set(users_adults)),' users that are adults')"
   ]
  }
 ],
 "metadata": {
  "anaconda-cloud": {},
  "kernelspec": {
   "display_name": "Python [conda root]",
   "language": "python",
   "name": "conda-root-py"
  },
  "language_info": {
   "codemirror_mode": {
    "name": "ipython",
    "version": 3
   },
   "file_extension": ".py",
   "mimetype": "text/x-python",
   "name": "python",
   "nbconvert_exporter": "python",
   "pygments_lexer": "ipython3",
   "version": "3.5.2"
  }
 },
 "nbformat": 4,
 "nbformat_minor": 1
}
