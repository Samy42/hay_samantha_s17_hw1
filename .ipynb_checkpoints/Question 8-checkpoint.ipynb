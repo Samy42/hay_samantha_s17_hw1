{
 "cells": [
  {
   "cell_type": "markdown",
   "metadata": {},
   "source": [
    "# Question 8\n",
    "- Use nps_chat and wordlist corpus.\n",
    "- If you find a word in nps_chat but not in wordlist, it is considered an unusual word. (e.g. Heyyyy, gr8, 4ever can be considered unusual words for this analysis)\n",
    "- Find out how many unusual words people speak in chat (notice: usernames should not be counted)\n",
    "- Bonus: What if I want to  count : ) , : ( all these emoticons in. (optional)\n"
   ]
  },
  {
   "cell_type": "code",
   "execution_count": 1,
   "metadata": {
    "collapsed": true
   },
   "outputs": [],
   "source": [
    "import nltk\n",
    "import re"
   ]
  },
  {
   "cell_type": "code",
   "execution_count": 2,
   "metadata": {
    "collapsed": false
   },
   "outputs": [],
   "source": [
    "#compile a list of real words\n",
    "realwords = nltk.corpus.words.words()\n",
    "realwords = list(set(realwords))\n",
    "\n",
    "for w in realwords:\n",
    "    realwords[realwords.index(w)] = w.lower"
   ]
  },
  {
   "cell_type": "code",
   "execution_count": 3,
   "metadata": {
    "collapsed": false
   },
   "outputs": [],
   "source": [
    "#compile a list of chat words from all nps_chat files\n",
    "chatwords = []\n",
    "for f in nltk.corpus.nps_chat.fileids():\n",
    "    chatwords = chatwords + list(nltk.corpus.nps_chat.words(f))\n",
    "    \n",
    "chatwords = list(set(chatwords))"
   ]
  },
  {
   "cell_type": "code",
   "execution_count": 4,
   "metadata": {
    "collapsed": false
   },
   "outputs": [],
   "source": [
    "#remove usernames\n",
    "for w in chatwords:\n",
    "    if re.search('u(.+)',w):\n",
    "        chatwords.remove(w)"
   ]
  },
  {
   "cell_type": "code",
   "execution_count": 5,
   "metadata": {
    "collapsed": false
   },
   "outputs": [],
   "source": [
    "#remove all emoticons and punctuation and numbers\n",
    "alphabet = ['a','b','c','d','e','f','g','h','i','j','k','l','m',\n",
    "            'n','o','p','q','r','s','t','u','v','w','x','y','z']\n",
    "\n",
    "for w in chatwords:\n",
    "    if w is '' or w[0] not in alphabet and w[-1] not in alphabet:\n",
    "        chatwords.remove(w)"
   ]
  },
  {
   "cell_type": "code",
   "execution_count": 6,
   "metadata": {
    "collapsed": false
   },
   "outputs": [
    {
     "name": "stdout",
     "output_type": "stream",
     "text": [
      "There are 4615 unusual words used in chat\n"
     ]
    }
   ],
   "source": [
    "unusual = [w for w in chatwords if w not in realwords]\n",
    "print('There are',len(unusual),'unusual words used in chat')"
   ]
  }
 ],
 "metadata": {
  "anaconda-cloud": {},
  "kernelspec": {
   "display_name": "Python [conda root]",
   "language": "python",
   "name": "conda-root-py"
  },
  "language_info": {
   "codemirror_mode": {
    "name": "ipython",
    "version": 3
   },
   "file_extension": ".py",
   "mimetype": "text/x-python",
   "name": "python",
   "nbconvert_exporter": "python",
   "pygments_lexer": "ipython3",
   "version": "3.5.2"
  }
 },
 "nbformat": 4,
 "nbformat_minor": 1
}
