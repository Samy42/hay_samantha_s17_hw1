{
 "cells": [
  {
   "cell_type": "markdown",
   "metadata": {},
   "source": [
    "# Question 6\n",
    "- Under Inaugural Address package\n",
    "- For every president, find out how many unique words they used in speech. \n",
    "- We will just assume that President Bush means one person (technically it is incorrect but we will ignore it)"
   ]
  },
  {
   "cell_type": "code",
   "execution_count": 1,
   "metadata": {
    "collapsed": true
   },
   "outputs": [],
   "source": [
    "import nltk"
   ]
  },
  {
   "cell_type": "code",
   "execution_count": 2,
   "metadata": {
    "collapsed": false
   },
   "outputs": [],
   "source": [
    "#make list of all inaugural address files\n",
    "files = list(nltk.corpus.inaugural.fileids())\n",
    "\n",
    "#iterate over that list and pull out the names of all the presidents\n",
    "names = list(range(len(files)))\n",
    "for f in range(len(files)):\n",
    "    names[f] = files[f][5:len(files[f])-4]\n",
    "\n",
    "#remove duplicates\n",
    "names = list(set(names))"
   ]
  },
  {
   "cell_type": "code",
   "execution_count": 3,
   "metadata": {
    "collapsed": false
   },
   "outputs": [],
   "source": [
    "#make a list of all the words from all address for each president\n",
    "#and remove duplicate words\n",
    "\n",
    "uniquewords = []\n",
    "for p in names:\n",
    "    words = sum([list(nltk.corpus.inaugural.words(f1)) for f1 in \n",
    "            [f2 for f2 in files if p in f2]],[])\n",
    "    uniquewords.extend([[p,len(set(words))]])\n",
    "    \n",
    "uniquewords.sort()"
   ]
  },
  {
   "cell_type": "code",
   "execution_count": 4,
   "metadata": {
    "collapsed": false
   },
   "outputs": [
    {
     "name": "stdout",
     "output_type": "stream",
     "text": [
      "President Adams had 1503 unique words in their inaugral address(es)\n",
      "President Buchanan had 948 unique words in their inaugral address(es)\n",
      "President Bush had 1578 unique words in their inaugral address(es)\n",
      "President Carter had 529 unique words in their inaugral address(es)\n",
      "President Cleveland had 1219 unique words in their inaugral address(es)\n",
      "President Clinton had 1138 unique words in their inaugral address(es)\n",
      "President Coolidge had 1221 unique words in their inaugral address(es)\n",
      "President Eisenhower had 1250 unique words in their inaugral address(es)\n",
      "President Garfield had 1022 unique words in their inaugral address(es)\n",
      "President Grant had 855 unique words in their inaugral address(es)\n",
      "President Harding had 1170 unique words in their inaugral address(es)\n",
      "President Harrison had 2662 unique words in their inaugral address(es)\n",
      "President Hayes had 832 unique words in their inaugral address(es)\n",
      "President Hoover had 1087 unique words in their inaugral address(es)\n",
      "President Jackson had 846 unique words in their inaugral address(es)\n",
      "President Jefferson had 1261 unique words in their inaugral address(es)\n",
      "President Johnson had 571 unique words in their inaugral address(es)\n",
      "President Kennedy had 570 unique words in their inaugral address(es)\n",
      "President Lincoln had 1261 unique words in their inaugral address(es)\n",
      "President Madison had 899 unique words in their inaugral address(es)\n",
      "President McKinley had 1682 unique words in their inaugral address(es)\n",
      "President Monroe had 1781 unique words in their inaugral address(es)\n",
      "President Nixon had 1037 unique words in their inaugral address(es)\n",
      "President Obama had 938 unique words in their inaugral address(es)\n",
      "President Pierce had 1168 unique words in their inaugral address(es)\n",
      "President Polk had 1333 unique words in their inaugral address(es)\n",
      "President Reagan had 1453 unique words in their inaugral address(es)\n",
      "President Roosevelt had 1704 unique words in their inaugral address(es)\n",
      "President Taft had 1439 unique words in their inaugral address(es)\n",
      "President Taylor had 499 unique words in their inaugral address(es)\n",
      "President Truman had 781 unique words in their inaugral address(es)\n",
      "President VanBuren had 1318 unique words in their inaugral address(es)\n",
      "President Washington had 663 unique words in their inaugral address(es)\n",
      "President Wilson had 996 unique words in their inaugral address(es)\n"
     ]
    }
   ],
   "source": [
    "#format and print output\n",
    "for p in uniquewords:\n",
    "    print('President',p[0],'had',p[1],\n",
    "          'unique words in their inaugral address(es)')"
   ]
  }
 ],
 "metadata": {
  "anaconda-cloud": {},
  "kernelspec": {
   "display_name": "Python [conda root]",
   "language": "python",
   "name": "conda-root-py"
  },
  "language_info": {
   "codemirror_mode": {
    "name": "ipython",
    "version": 3
   },
   "file_extension": ".py",
   "mimetype": "text/x-python",
   "name": "python",
   "nbconvert_exporter": "python",
   "pygments_lexer": "ipython3",
   "version": "3.5.2"
  }
 },
 "nbformat": 4,
 "nbformat_minor": 1
}
